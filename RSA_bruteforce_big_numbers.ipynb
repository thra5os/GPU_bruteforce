{
 "cells": [
  {
   "cell_type": "markdown",
   "id": "beee46e6-a50a-4d90-af91-95a61dc610bd",
   "metadata": {},
   "source": [
    "# Algorithme cryptographique RSA \n",
    "\n",
    "### Génération des clés RSA :\n",
    "On a : Soit n = p * q où p et q sont des nombres premiers.\n",
    "On calcule ensuite phi(n) = (p - 1)*(q - 1), ordre du groupe multiplicatif.\n",
    "On a \"e\", un entier premier avec phi(n)\n",
    "Puis d, un entier qui satisfait d*e = 1 (modulo phi(n))\n",
    "==> d*e + u*phi(n) = 1 \n",
    "\n",
    "\n",
    "### Pourquoi \"e\" est à 65537 ?\n",
    "Pour que e soit valide dans RSA, il doit respecter ces conditions :\n",
    "- e doit être premier avec φ(n) : gcd(e, φ(n)) = 1 (sinon on ne peut pas calculer d = e⁻¹ mod φ(n)).\n",
    "- e doit être impair : Pour éviter d'avoir un d pair (qui affaiblirait RSA).\n",
    "- e doit être assez petit : Pour accélérer le chiffrement (C = M^e mod n).\n",
    "\n",
    "### Clé publique\n",
    "n = p*q : module public\n",
    "e : exposant public\n",
    "\n",
    "### Clé privée\n",
    "d = e^-1 (modulo phi(n))\n",
    "\n",
    "### Nous devons respecter les étapes suivantes (but recherché avec des nombres de grande taille) :\n",
    "Générer une clé RSA (n = p * q, e, d).\n",
    "\n",
    "Factoriser n sur le GPU (trouver p, q en parallèle).\n",
    "\n",
    "Calculer d (clé privée) en trouvant l'inverse modulaire de e.\n",
    "\n",
    "### Documentation CUMP à voir sur le lien suivant :\n",
    "https://github.com/skystar0227/CUMP\n",
    "\n"
   ]
  },
  {
   "cell_type": "code",
   "execution_count": null,
   "id": "2b70ac84-bc64-483f-be46-a0a68de7a3a8",
   "metadata": {},
   "outputs": [],
   "source": [
    "!git clone https://github.com/skystar0227/CUMP.git"
   ]
  },
  {
   "cell_type": "code",
   "execution_count": null,
   "id": "d80bf753-fc1e-475a-a9e3-04f696b440e1",
   "metadata": {},
   "outputs": [],
   "source": [
    "!ls"
   ]
  },
  {
   "cell_type": "code",
   "execution_count": null,
   "id": "d992c9c3-efe9-42fc-84ed-47ecd94f0b3a",
   "metadata": {},
   "outputs": [],
   "source": [
    "#include <iostream>\n",
    "#include <cuda_runtime.h>\n",
    "#include <cump.cimp.h>\n",
    "\n",
    "#define THREADS_PER_BLOCK 256"
   ]
  },
  {
   "cell_type": "code",
   "execution_count": null,
   "id": "7d020506-b537-4b62-88f5-06956c2170d1",
   "metadata": {},
   "outputs": [],
   "source": [
    "void generate_rsa_key(cump::bigint &n, cump::bigint &e, cump::bigint &d, cump::bigint p, cump::bigint q)\n",
    "{\n",
    "    n = p * q;\n",
    "    cump::bigint phi = (p - 1) * (q - 1);\n",
    "    e = cump::bigint(65537);  \n",
    "    d = cump::mod_inv(e, phi);  \n",
    "}\n",
    "\n",
    "__global__ void factorize_kernel(cump::bigint n, cump::bigint *factors, int *found)\n",
    "// n : entier à  factoriser de la clé publique RSA\n",
    "// factors : tableau pour stocker p et q\n",
    "// found : indicateur de recherche\n",
    "{\n",
    "    int tid = blockIdx.x * blockDim.x + threadIdx.x;\n",
    "    cump::bigint p(tid + 2), q, rem;\n",
    "\n",
    "    if (*found == 1) return;  \n",
    "    // si un des autres threads utilisés a déjà  trouvé p et q, on arrête\n",
    "\n",
    "    cump::mod(rem, n, p);   \n",
    "    // stocke le resultat de n%p dans rem\n",
    "    if (rem == cump::bigint(0)) { // si rem vaut 0 alors p est un diviseur de n\n",
    "        q = n / p;\n",
    "        factors[0] = p;\n",
    "        factors[1] = q;\n",
    "        *found = 1;\n",
    "    }\n",
    "}\n",
    "\n",
    "void factorize_n_gpu(cump::bigint n, cump::bigint &p, cump::bigint &q) {\n",
    "    cump::bigint *d_factors;\n",
    "    int *d_found, h_found = 0;\n",
    "\n",
    "    cudaMalloc((void **)&d_factors, 2 * sizeof(cump::bigint));\n",
    "    cudaMalloc((void **)&d_found, sizeof(int));\n",
    "    cudaMemcpy(d_found, &h_found, sizeof(int), cudaMemcpyHostToDevice);\n",
    "\n",
    "    int num_blocks = (cump::size_in_bits(n) / THREADS_PER_BLOCK) + 1;\n",
    "    factorize_kernel<<<num_blocks, THREADS_PER_BLOCK>>>(n, d_factors, d_found);\n",
    "    cudaDeviceSynchronize();\n",
    "\n",
    "    cudaMemcpy(&h_found, d_found, sizeof(int), cudaMemcpyDeviceToHost);\n",
    "    if (h_found == 1) {\n",
    "        cudaMemcpy(&p, &d_factors[0], sizeof(cump::bigint), cudaMemcpyDeviceToHost);\n",
    "        cudaMemcpy(&q, &d_factors[1], sizeof(cump::bigint), cudaMemcpyDeviceToHost);\n",
    "    }\n",
    "\n",
    "    cudaFree(d_factors);\n",
    "    cudaFree(d_found);\n",
    "}\n",
    "\n",
    "// VOIR POUR UNE AUTRE APPROCHE"
   ]
  },
  {
   "cell_type": "code",
   "execution_count": null,
   "id": "c43a18c4-a98c-48ea-8050-fb255a706b01",
   "metadata": {},
   "outputs": [],
   "source": []
  }
 ],
 "metadata": {
  "kernelspec": {
   "display_name": "C++17",
   "language": "C++17",
   "name": "xcpp17"
  },
  "language_info": {
   "codemirror_mode": "text/x-c++src",
   "file_extension": ".cpp",
   "mimetype": "text/x-c++src",
   "name": "c++",
   "version": "17"
  }
 },
 "nbformat": 4,
 "nbformat_minor": 5
}
